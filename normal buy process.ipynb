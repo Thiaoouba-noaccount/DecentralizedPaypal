{
 "cells": [
  {
   "cell_type": "code",
   "execution_count": 4,
   "metadata": {},
   "outputs": [
    {
     "name": "stdout",
     "output_type": "stream",
     "text": [
      "enter ganache setting!\n",
      "USDT_ADDR: 0xBa67F0c2CC12E27266822D69b43E3895dAeD8899\n",
      "buy process with USDT:buy an item from seller worth 100 usd.\n",
      "577\n",
      "allowance is: 1000000000000000000000\n",
      "578\n",
      "9999999999999999922000\n"
     ]
    }
   ],
   "source": [
    "import time\n",
    "import web3Util\n",
    "\n",
    "if __name__ == \"__main__\":\n",
    "    \n",
    "    web3Util.setTestEnvironment(ropsten=False)\n",
    "    usdt_contract = web3Util.usdt_contract\n",
    "    paypal_contract_address = web3Util.paypal_contract_address\n",
    "\n",
    "    wallet_address_buyer = web3Util.wallet_address_buyer\n",
    "    wallet_address_seller = web3Util.wallet_address_seller\n",
    "    USDT_ADDR = web3Util.USDT_ADDR\n",
    "    print(\"USDT_ADDR:\",USDT_ADDR)\n",
    "\n",
    "    print(\"buy process with USDT:buy an item from seller worth 100 usd.\")\n",
    "    result = web3Util.approve(usdt_contract,paypal_contract_address,1000)\n",
    "    print(\"allowance is:\",web3Util.allowance(usdt_contract,wallet_address_buyer,paypal_contract_address))\n",
    "    web3Util.deposit(USDT_ADDR,wallet_address_seller,1000, 2)\n",
    "    print(web3Util.balanceOf(usdt_contract,web3Util.accounts[0]))\n",
    "\n",
    "        \n",
    "        "
   ]
  },
  {
   "cell_type": "code",
   "execution_count": null,
   "metadata": {},
   "outputs": [],
   "source": []
  }
 ],
 "metadata": {
  "kernelspec": {
   "display_name": "Python 3",
   "language": "python",
   "name": "python3"
  },
  "language_info": {
   "codemirror_mode": {
    "name": "ipython",
    "version": 3
   },
   "file_extension": ".py",
   "mimetype": "text/x-python",
   "name": "python",
   "nbconvert_exporter": "python",
   "pygments_lexer": "ipython3",
   "version": "3.6.5"
  }
 },
 "nbformat": 4,
 "nbformat_minor": 2
}
